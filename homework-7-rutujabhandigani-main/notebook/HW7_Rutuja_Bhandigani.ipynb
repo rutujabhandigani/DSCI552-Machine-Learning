{
  "nbformat": 4,
  "nbformat_minor": 0,
  "metadata": {
    "colab": {
      "provenance": [],
      "collapsed_sections": []
    },
    "kernelspec": {
      "name": "python3",
      "display_name": "Python 3"
    },
    "language_info": {
      "name": "python"
    }
  },
  "cells": [
    {
      "cell_type": "code",
      "source": [
        "import pandas as pd\n",
        "import numpy as np\n",
        "import seaborn as sns\n",
        "from sklearn.model_selection import train_test_split\n",
        "import math\n",
        "import warnings\n",
        "warnings.filterwarnings('ignore')"
      ],
      "metadata": {
        "id": "3Nul74zoMN2F"
      },
      "execution_count": 33,
      "outputs": []
    },
    {
      "cell_type": "markdown",
      "source": [
        "(a) Download the Anuran Calls (MFCCs) Data Set from: https://archive.ics.uci.edu/ml/datasets/Anuran+Calls+%28MFCCs%29. Choose 70% of the data randomly as the training set."
      ],
      "metadata": {
        "id": "QaEYlnaiMSar"
      }
    },
    {
      "cell_type": "code",
      "source": [
        "data = pd.read_csv('../data/Frogs_MFCCs.csv')\n",
        "data\n",
        "\n",
        "#data['Family'].value_counts()\n",
        "#data['Genus'].value_counts()\n",
        "#data['Species'].value_counts()"
      ],
      "metadata": {
        "colab": {
          "base_uri": "https://localhost:8080/",
          "height": 505
        },
        "id": "xw789SDVMdTY",
        "outputId": "8e59da10-6e2a-483c-bcf9-1bf31668c725"
      },
      "execution_count": 34,
      "outputs": [
        {
          "output_type": "execute_result",
          "data": {
            "text/plain": [
              "      MFCCs_ 1  MFCCs_ 2  MFCCs_ 3  MFCCs_ 4  MFCCs_ 5  MFCCs_ 6  MFCCs_ 7  \\\n",
              "0          1.0  0.152936 -0.105586  0.200722  0.317201  0.260764  0.100945   \n",
              "1          1.0  0.171534 -0.098975  0.268425  0.338672  0.268353  0.060835   \n",
              "2          1.0  0.152317 -0.082973  0.287128  0.276014  0.189867  0.008714   \n",
              "3          1.0  0.224392  0.118985  0.329432  0.372088  0.361005  0.015501   \n",
              "4          1.0  0.087817 -0.068345  0.306967  0.330923  0.249144  0.006884   \n",
              "...        ...       ...       ...       ...       ...       ...       ...   \n",
              "7190       1.0 -0.554504 -0.337717  0.035533  0.034511  0.443451  0.093889   \n",
              "7191       1.0 -0.517273 -0.370574  0.030673  0.068097  0.402890  0.096628   \n",
              "7192       1.0 -0.582557 -0.343237  0.029468  0.064179  0.385596  0.114905   \n",
              "7193       1.0 -0.519497 -0.307553 -0.004922  0.072865  0.377131  0.086866   \n",
              "7194       1.0 -0.508833 -0.324106  0.062068  0.078211  0.397188  0.094596   \n",
              "\n",
              "      MFCCs_ 8  MFCCs_ 9  MFCCs_10  ...  MFCCs_17  MFCCs_18  MFCCs_19  \\\n",
              "0    -0.150063 -0.171128  0.124676  ... -0.108351 -0.077623 -0.009568   \n",
              "1    -0.222475 -0.207693  0.170883  ... -0.090974 -0.056510 -0.035303   \n",
              "2    -0.242234 -0.219153  0.232538  ... -0.050691 -0.023590 -0.066722   \n",
              "3    -0.194347 -0.098181  0.270375  ... -0.136009 -0.177037 -0.130498   \n",
              "4    -0.265423 -0.172700  0.266434  ... -0.048885 -0.053074 -0.088550   \n",
              "...        ...       ...       ...  ...       ...       ...       ...   \n",
              "7190 -0.100753  0.037087  0.081075  ...  0.069430  0.071001  0.021591   \n",
              "7191 -0.116460  0.063727  0.089034  ...  0.061127  0.068978  0.017745   \n",
              "7192 -0.103317  0.070370  0.081317  ...  0.082474  0.077771 -0.009688   \n",
              "7193 -0.115799  0.056979  0.089316  ...  0.051796  0.069073  0.017963   \n",
              "7194 -0.117672  0.058874  0.076180  ...  0.061455  0.072983 -0.003980   \n",
              "\n",
              "      MFCCs_20  MFCCs_21  MFCCs_22           Family      Genus  \\\n",
              "0     0.057684  0.118680  0.014038  Leptodactylidae  Adenomera   \n",
              "1     0.020140  0.082263  0.029056  Leptodactylidae  Adenomera   \n",
              "2    -0.025083  0.099108  0.077162  Leptodactylidae  Adenomera   \n",
              "3    -0.054766 -0.018691  0.023954  Leptodactylidae  Adenomera   \n",
              "4    -0.031346  0.108610  0.079244  Leptodactylidae  Adenomera   \n",
              "...        ...       ...       ...              ...        ...   \n",
              "7190  0.052449 -0.021860 -0.079860          Hylidae     Scinax   \n",
              "7191  0.046461 -0.015418 -0.101892          Hylidae     Scinax   \n",
              "7192  0.027834 -0.000531 -0.080425          Hylidae     Scinax   \n",
              "7193  0.041803 -0.027911 -0.096895          Hylidae     Scinax   \n",
              "7194  0.031560 -0.029355 -0.087910          Hylidae     Scinax   \n",
              "\n",
              "             Species  RecordID  \n",
              "0     AdenomeraAndre         1  \n",
              "1     AdenomeraAndre         1  \n",
              "2     AdenomeraAndre         1  \n",
              "3     AdenomeraAndre         1  \n",
              "4     AdenomeraAndre         1  \n",
              "...              ...       ...  \n",
              "7190     ScinaxRuber        60  \n",
              "7191     ScinaxRuber        60  \n",
              "7192     ScinaxRuber        60  \n",
              "7193     ScinaxRuber        60  \n",
              "7194     ScinaxRuber        60  \n",
              "\n",
              "[7195 rows x 26 columns]"
            ],
            "text/html": [
              "\n",
              "  <div id=\"df-c0aa26cc-460a-421c-b857-811923b5cf20\">\n",
              "    <div class=\"colab-df-container\">\n",
              "      <div>\n",
              "<style scoped>\n",
              "    .dataframe tbody tr th:only-of-type {\n",
              "        vertical-align: middle;\n",
              "    }\n",
              "\n",
              "    .dataframe tbody tr th {\n",
              "        vertical-align: top;\n",
              "    }\n",
              "\n",
              "    .dataframe thead th {\n",
              "        text-align: right;\n",
              "    }\n",
              "</style>\n",
              "<table border=\"1\" class=\"dataframe\">\n",
              "  <thead>\n",
              "    <tr style=\"text-align: right;\">\n",
              "      <th></th>\n",
              "      <th>MFCCs_ 1</th>\n",
              "      <th>MFCCs_ 2</th>\n",
              "      <th>MFCCs_ 3</th>\n",
              "      <th>MFCCs_ 4</th>\n",
              "      <th>MFCCs_ 5</th>\n",
              "      <th>MFCCs_ 6</th>\n",
              "      <th>MFCCs_ 7</th>\n",
              "      <th>MFCCs_ 8</th>\n",
              "      <th>MFCCs_ 9</th>\n",
              "      <th>MFCCs_10</th>\n",
              "      <th>...</th>\n",
              "      <th>MFCCs_17</th>\n",
              "      <th>MFCCs_18</th>\n",
              "      <th>MFCCs_19</th>\n",
              "      <th>MFCCs_20</th>\n",
              "      <th>MFCCs_21</th>\n",
              "      <th>MFCCs_22</th>\n",
              "      <th>Family</th>\n",
              "      <th>Genus</th>\n",
              "      <th>Species</th>\n",
              "      <th>RecordID</th>\n",
              "    </tr>\n",
              "  </thead>\n",
              "  <tbody>\n",
              "    <tr>\n",
              "      <th>0</th>\n",
              "      <td>1.0</td>\n",
              "      <td>0.152936</td>\n",
              "      <td>-0.105586</td>\n",
              "      <td>0.200722</td>\n",
              "      <td>0.317201</td>\n",
              "      <td>0.260764</td>\n",
              "      <td>0.100945</td>\n",
              "      <td>-0.150063</td>\n",
              "      <td>-0.171128</td>\n",
              "      <td>0.124676</td>\n",
              "      <td>...</td>\n",
              "      <td>-0.108351</td>\n",
              "      <td>-0.077623</td>\n",
              "      <td>-0.009568</td>\n",
              "      <td>0.057684</td>\n",
              "      <td>0.118680</td>\n",
              "      <td>0.014038</td>\n",
              "      <td>Leptodactylidae</td>\n",
              "      <td>Adenomera</td>\n",
              "      <td>AdenomeraAndre</td>\n",
              "      <td>1</td>\n",
              "    </tr>\n",
              "    <tr>\n",
              "      <th>1</th>\n",
              "      <td>1.0</td>\n",
              "      <td>0.171534</td>\n",
              "      <td>-0.098975</td>\n",
              "      <td>0.268425</td>\n",
              "      <td>0.338672</td>\n",
              "      <td>0.268353</td>\n",
              "      <td>0.060835</td>\n",
              "      <td>-0.222475</td>\n",
              "      <td>-0.207693</td>\n",
              "      <td>0.170883</td>\n",
              "      <td>...</td>\n",
              "      <td>-0.090974</td>\n",
              "      <td>-0.056510</td>\n",
              "      <td>-0.035303</td>\n",
              "      <td>0.020140</td>\n",
              "      <td>0.082263</td>\n",
              "      <td>0.029056</td>\n",
              "      <td>Leptodactylidae</td>\n",
              "      <td>Adenomera</td>\n",
              "      <td>AdenomeraAndre</td>\n",
              "      <td>1</td>\n",
              "    </tr>\n",
              "    <tr>\n",
              "      <th>2</th>\n",
              "      <td>1.0</td>\n",
              "      <td>0.152317</td>\n",
              "      <td>-0.082973</td>\n",
              "      <td>0.287128</td>\n",
              "      <td>0.276014</td>\n",
              "      <td>0.189867</td>\n",
              "      <td>0.008714</td>\n",
              "      <td>-0.242234</td>\n",
              "      <td>-0.219153</td>\n",
              "      <td>0.232538</td>\n",
              "      <td>...</td>\n",
              "      <td>-0.050691</td>\n",
              "      <td>-0.023590</td>\n",
              "      <td>-0.066722</td>\n",
              "      <td>-0.025083</td>\n",
              "      <td>0.099108</td>\n",
              "      <td>0.077162</td>\n",
              "      <td>Leptodactylidae</td>\n",
              "      <td>Adenomera</td>\n",
              "      <td>AdenomeraAndre</td>\n",
              "      <td>1</td>\n",
              "    </tr>\n",
              "    <tr>\n",
              "      <th>3</th>\n",
              "      <td>1.0</td>\n",
              "      <td>0.224392</td>\n",
              "      <td>0.118985</td>\n",
              "      <td>0.329432</td>\n",
              "      <td>0.372088</td>\n",
              "      <td>0.361005</td>\n",
              "      <td>0.015501</td>\n",
              "      <td>-0.194347</td>\n",
              "      <td>-0.098181</td>\n",
              "      <td>0.270375</td>\n",
              "      <td>...</td>\n",
              "      <td>-0.136009</td>\n",
              "      <td>-0.177037</td>\n",
              "      <td>-0.130498</td>\n",
              "      <td>-0.054766</td>\n",
              "      <td>-0.018691</td>\n",
              "      <td>0.023954</td>\n",
              "      <td>Leptodactylidae</td>\n",
              "      <td>Adenomera</td>\n",
              "      <td>AdenomeraAndre</td>\n",
              "      <td>1</td>\n",
              "    </tr>\n",
              "    <tr>\n",
              "      <th>4</th>\n",
              "      <td>1.0</td>\n",
              "      <td>0.087817</td>\n",
              "      <td>-0.068345</td>\n",
              "      <td>0.306967</td>\n",
              "      <td>0.330923</td>\n",
              "      <td>0.249144</td>\n",
              "      <td>0.006884</td>\n",
              "      <td>-0.265423</td>\n",
              "      <td>-0.172700</td>\n",
              "      <td>0.266434</td>\n",
              "      <td>...</td>\n",
              "      <td>-0.048885</td>\n",
              "      <td>-0.053074</td>\n",
              "      <td>-0.088550</td>\n",
              "      <td>-0.031346</td>\n",
              "      <td>0.108610</td>\n",
              "      <td>0.079244</td>\n",
              "      <td>Leptodactylidae</td>\n",
              "      <td>Adenomera</td>\n",
              "      <td>AdenomeraAndre</td>\n",
              "      <td>1</td>\n",
              "    </tr>\n",
              "    <tr>\n",
              "      <th>...</th>\n",
              "      <td>...</td>\n",
              "      <td>...</td>\n",
              "      <td>...</td>\n",
              "      <td>...</td>\n",
              "      <td>...</td>\n",
              "      <td>...</td>\n",
              "      <td>...</td>\n",
              "      <td>...</td>\n",
              "      <td>...</td>\n",
              "      <td>...</td>\n",
              "      <td>...</td>\n",
              "      <td>...</td>\n",
              "      <td>...</td>\n",
              "      <td>...</td>\n",
              "      <td>...</td>\n",
              "      <td>...</td>\n",
              "      <td>...</td>\n",
              "      <td>...</td>\n",
              "      <td>...</td>\n",
              "      <td>...</td>\n",
              "      <td>...</td>\n",
              "    </tr>\n",
              "    <tr>\n",
              "      <th>7190</th>\n",
              "      <td>1.0</td>\n",
              "      <td>-0.554504</td>\n",
              "      <td>-0.337717</td>\n",
              "      <td>0.035533</td>\n",
              "      <td>0.034511</td>\n",
              "      <td>0.443451</td>\n",
              "      <td>0.093889</td>\n",
              "      <td>-0.100753</td>\n",
              "      <td>0.037087</td>\n",
              "      <td>0.081075</td>\n",
              "      <td>...</td>\n",
              "      <td>0.069430</td>\n",
              "      <td>0.071001</td>\n",
              "      <td>0.021591</td>\n",
              "      <td>0.052449</td>\n",
              "      <td>-0.021860</td>\n",
              "      <td>-0.079860</td>\n",
              "      <td>Hylidae</td>\n",
              "      <td>Scinax</td>\n",
              "      <td>ScinaxRuber</td>\n",
              "      <td>60</td>\n",
              "    </tr>\n",
              "    <tr>\n",
              "      <th>7191</th>\n",
              "      <td>1.0</td>\n",
              "      <td>-0.517273</td>\n",
              "      <td>-0.370574</td>\n",
              "      <td>0.030673</td>\n",
              "      <td>0.068097</td>\n",
              "      <td>0.402890</td>\n",
              "      <td>0.096628</td>\n",
              "      <td>-0.116460</td>\n",
              "      <td>0.063727</td>\n",
              "      <td>0.089034</td>\n",
              "      <td>...</td>\n",
              "      <td>0.061127</td>\n",
              "      <td>0.068978</td>\n",
              "      <td>0.017745</td>\n",
              "      <td>0.046461</td>\n",
              "      <td>-0.015418</td>\n",
              "      <td>-0.101892</td>\n",
              "      <td>Hylidae</td>\n",
              "      <td>Scinax</td>\n",
              "      <td>ScinaxRuber</td>\n",
              "      <td>60</td>\n",
              "    </tr>\n",
              "    <tr>\n",
              "      <th>7192</th>\n",
              "      <td>1.0</td>\n",
              "      <td>-0.582557</td>\n",
              "      <td>-0.343237</td>\n",
              "      <td>0.029468</td>\n",
              "      <td>0.064179</td>\n",
              "      <td>0.385596</td>\n",
              "      <td>0.114905</td>\n",
              "      <td>-0.103317</td>\n",
              "      <td>0.070370</td>\n",
              "      <td>0.081317</td>\n",
              "      <td>...</td>\n",
              "      <td>0.082474</td>\n",
              "      <td>0.077771</td>\n",
              "      <td>-0.009688</td>\n",
              "      <td>0.027834</td>\n",
              "      <td>-0.000531</td>\n",
              "      <td>-0.080425</td>\n",
              "      <td>Hylidae</td>\n",
              "      <td>Scinax</td>\n",
              "      <td>ScinaxRuber</td>\n",
              "      <td>60</td>\n",
              "    </tr>\n",
              "    <tr>\n",
              "      <th>7193</th>\n",
              "      <td>1.0</td>\n",
              "      <td>-0.519497</td>\n",
              "      <td>-0.307553</td>\n",
              "      <td>-0.004922</td>\n",
              "      <td>0.072865</td>\n",
              "      <td>0.377131</td>\n",
              "      <td>0.086866</td>\n",
              "      <td>-0.115799</td>\n",
              "      <td>0.056979</td>\n",
              "      <td>0.089316</td>\n",
              "      <td>...</td>\n",
              "      <td>0.051796</td>\n",
              "      <td>0.069073</td>\n",
              "      <td>0.017963</td>\n",
              "      <td>0.041803</td>\n",
              "      <td>-0.027911</td>\n",
              "      <td>-0.096895</td>\n",
              "      <td>Hylidae</td>\n",
              "      <td>Scinax</td>\n",
              "      <td>ScinaxRuber</td>\n",
              "      <td>60</td>\n",
              "    </tr>\n",
              "    <tr>\n",
              "      <th>7194</th>\n",
              "      <td>1.0</td>\n",
              "      <td>-0.508833</td>\n",
              "      <td>-0.324106</td>\n",
              "      <td>0.062068</td>\n",
              "      <td>0.078211</td>\n",
              "      <td>0.397188</td>\n",
              "      <td>0.094596</td>\n",
              "      <td>-0.117672</td>\n",
              "      <td>0.058874</td>\n",
              "      <td>0.076180</td>\n",
              "      <td>...</td>\n",
              "      <td>0.061455</td>\n",
              "      <td>0.072983</td>\n",
              "      <td>-0.003980</td>\n",
              "      <td>0.031560</td>\n",
              "      <td>-0.029355</td>\n",
              "      <td>-0.087910</td>\n",
              "      <td>Hylidae</td>\n",
              "      <td>Scinax</td>\n",
              "      <td>ScinaxRuber</td>\n",
              "      <td>60</td>\n",
              "    </tr>\n",
              "  </tbody>\n",
              "</table>\n",
              "<p>7195 rows × 26 columns</p>\n",
              "</div>\n",
              "      <button class=\"colab-df-convert\" onclick=\"convertToInteractive('df-c0aa26cc-460a-421c-b857-811923b5cf20')\"\n",
              "              title=\"Convert this dataframe to an interactive table.\"\n",
              "              style=\"display:none;\">\n",
              "        \n",
              "  <svg xmlns=\"http://www.w3.org/2000/svg\" height=\"24px\"viewBox=\"0 0 24 24\"\n",
              "       width=\"24px\">\n",
              "    <path d=\"M0 0h24v24H0V0z\" fill=\"none\"/>\n",
              "    <path d=\"M18.56 5.44l.94 2.06.94-2.06 2.06-.94-2.06-.94-.94-2.06-.94 2.06-2.06.94zm-11 1L8.5 8.5l.94-2.06 2.06-.94-2.06-.94L8.5 2.5l-.94 2.06-2.06.94zm10 10l.94 2.06.94-2.06 2.06-.94-2.06-.94-.94-2.06-.94 2.06-2.06.94z\"/><path d=\"M17.41 7.96l-1.37-1.37c-.4-.4-.92-.59-1.43-.59-.52 0-1.04.2-1.43.59L10.3 9.45l-7.72 7.72c-.78.78-.78 2.05 0 2.83L4 21.41c.39.39.9.59 1.41.59.51 0 1.02-.2 1.41-.59l7.78-7.78 2.81-2.81c.8-.78.8-2.07 0-2.86zM5.41 20L4 18.59l7.72-7.72 1.47 1.35L5.41 20z\"/>\n",
              "  </svg>\n",
              "      </button>\n",
              "      \n",
              "  <style>\n",
              "    .colab-df-container {\n",
              "      display:flex;\n",
              "      flex-wrap:wrap;\n",
              "      gap: 12px;\n",
              "    }\n",
              "\n",
              "    .colab-df-convert {\n",
              "      background-color: #E8F0FE;\n",
              "      border: none;\n",
              "      border-radius: 50%;\n",
              "      cursor: pointer;\n",
              "      display: none;\n",
              "      fill: #1967D2;\n",
              "      height: 32px;\n",
              "      padding: 0 0 0 0;\n",
              "      width: 32px;\n",
              "    }\n",
              "\n",
              "    .colab-df-convert:hover {\n",
              "      background-color: #E2EBFA;\n",
              "      box-shadow: 0px 1px 2px rgba(60, 64, 67, 0.3), 0px 1px 3px 1px rgba(60, 64, 67, 0.15);\n",
              "      fill: #174EA6;\n",
              "    }\n",
              "\n",
              "    [theme=dark] .colab-df-convert {\n",
              "      background-color: #3B4455;\n",
              "      fill: #D2E3FC;\n",
              "    }\n",
              "\n",
              "    [theme=dark] .colab-df-convert:hover {\n",
              "      background-color: #434B5C;\n",
              "      box-shadow: 0px 1px 3px 1px rgba(0, 0, 0, 0.15);\n",
              "      filter: drop-shadow(0px 1px 2px rgba(0, 0, 0, 0.3));\n",
              "      fill: #FFFFFF;\n",
              "    }\n",
              "  </style>\n",
              "\n",
              "      <script>\n",
              "        const buttonEl =\n",
              "          document.querySelector('#df-c0aa26cc-460a-421c-b857-811923b5cf20 button.colab-df-convert');\n",
              "        buttonEl.style.display =\n",
              "          google.colab.kernel.accessAllowed ? 'block' : 'none';\n",
              "\n",
              "        async function convertToInteractive(key) {\n",
              "          const element = document.querySelector('#df-c0aa26cc-460a-421c-b857-811923b5cf20');\n",
              "          const dataTable =\n",
              "            await google.colab.kernel.invokeFunction('convertToInteractive',\n",
              "                                                     [key], {});\n",
              "          if (!dataTable) return;\n",
              "\n",
              "          const docLinkHtml = 'Like what you see? Visit the ' +\n",
              "            '<a target=\"_blank\" href=https://colab.research.google.com/notebooks/data_table.ipynb>data table notebook</a>'\n",
              "            + ' to learn more about interactive tables.';\n",
              "          element.innerHTML = '';\n",
              "          dataTable['output_type'] = 'display_data';\n",
              "          await google.colab.output.renderOutput(dataTable, element);\n",
              "          const docLink = document.createElement('div');\n",
              "          docLink.innerHTML = docLinkHtml;\n",
              "          element.appendChild(docLink);\n",
              "        }\n",
              "      </script>\n",
              "    </div>\n",
              "  </div>\n",
              "  "
            ]
          },
          "metadata": {},
          "execution_count": 34
        }
      ]
    },
    {
      "cell_type": "code",
      "source": [
        "x_data = data.iloc[:, :22] #selecting 22 columns according to readme\n",
        "y_data = data.iloc[:, 22:-1]\n",
        "x_train, x_test, y_train, y_test = train_test_split(x_data, y_data, test_size=0.3, random_state = 42) #70% train, 30% test\n",
        "\n",
        "x_train.shape\n",
        "x_test.shape"
      ],
      "metadata": {
        "colab": {
          "base_uri": "https://localhost:8080/"
        },
        "id": "exll4UJmYQ87",
        "outputId": "f2f13f50-b657-4fdd-e4f1-6dd77b051dc0"
      },
      "execution_count": 35,
      "outputs": [
        {
          "output_type": "execute_result",
          "data": {
            "text/plain": [
              "(2159, 22)"
            ]
          },
          "metadata": {},
          "execution_count": 35
        }
      ]
    },
    {
      "cell_type": "markdown",
      "source": [
        "(b) Each instance has three labels: Families, Genus, and Species. Each of the labels has multiple classes. We wish to solve a multi-class and multi-label problem. One of the most important approaches to multi-label classification is to train a classifier for each label (binary relevance). We first try this approach: <br>\n",
        "i) Research exact match and hamming score/ loss methods for evaluating multi-label classification and use them in evaluating the classifiers in this problem."
      ],
      "metadata": {
        "id": "dB989tyAZFJW"
      }
    },
    {
      "cell_type": "markdown",
      "source": [
        "Exact Match: <br>\n",
        "Sample based accuracy method as every label of a sample must exactly match to the one in the dataset <br>\n",
        "\n",
        "Hamming Score/Loss: <br>\n",
        "Label based metric that counts each mismatched label instead of considering the labels of sample data as one"
      ],
      "metadata": {
        "id": "hFE6UC2_g5DP"
      }
    },
    {
      "cell_type": "markdown",
      "source": [
        "ii. Train a SVM for each of the labels, using Gaussian kernels and one versus all classifiers. Determine the weight of the SVM penalty and the width of the Gaussian Kernel using 10 fold cross validation. You are welcome to try to solve the problem with both standardized and raw attributes and report the results."
      ],
      "metadata": {
        "id": "87bMweqbh_Y6"
      }
    },
    {
      "cell_type": "code",
      "source": [
        "#splitting the train features according to labels\n",
        "y_train_family = y_train['Family']\n",
        "y_train_genus = y_train['Genus']\n",
        "y_train_species = y_train['Species']\n",
        "\n",
        "#splitting the test features according to labels\n",
        "y_test_family = y_test['Family']\n",
        "y_test_genus = y_test['Genus']\n",
        "y_test_species = y_test['Species']"
      ],
      "metadata": {
        "id": "YNH58cxdh6RB"
      },
      "execution_count": 36,
      "outputs": []
    },
    {
      "cell_type": "code",
      "source": [
        "from sklearn.svm import SVC\n",
        "from sklearn.model_selection import KFold\n",
        "from sklearn.model_selection import GridSearchCV\n",
        "from sklearn.svm import LinearSVC\n",
        "from sklearn import preprocessing\n",
        "\n",
        "c_range = [10**c for c in np.arange(-3,7, dtype=float)]\n",
        "gamma_range = np.arange(0.1, 2.1, 0.1)\n",
        "\n",
        "\n",
        "#SVM for one versus all classifiers\n",
        "svc_model = SVC(kernel='rbf', random_state=42, max_iter = 1000)\n",
        "parameters = {'C':c_range, 'gamma':gamma_range}\n",
        "\n",
        "# build and fit the grid search for given classifier\n",
        "svc_family = GridSearchCV(svc_model, parameters, cv=10).fit(x_train, y_train_family)\n",
        "svc_genus = GridSearchCV(svc_model, parameters, cv=10).fit(x_train, y_train_genus)\n",
        "svc_species = GridSearchCV(svc_model, parameters, cv=10).fit(x_train, y_train_species)"
      ],
      "metadata": {
        "id": "yN_rhzFCoLPP"
      },
      "execution_count": 37,
      "outputs": []
    },
    {
      "cell_type": "code",
      "source": [
        "c_family, gamma_family = svc_family.best_params_['C'], svc_family.best_params_['gamma']\n",
        "c_genus, gamma_genus = svc_genus.best_params_['C'], svc_genus.best_params_['gamma']\n",
        "c_species, gamma_species = svc_species.best_params_['C'], svc_species.best_params_['gamma']\n",
        "\n",
        "print('Label: Family, c = ', c_family, 'and gamma = ', gamma_family)\n",
        "print('Label: Genus, c = ', c_genus, 'and gamma = ', gamma_genus)\n",
        "print('Label: Species, c = ', c_species, 'and gamma = ', gamma_species)"
      ],
      "metadata": {
        "colab": {
          "base_uri": "https://localhost:8080/"
        },
        "id": "wzFnpPDr4GYu",
        "outputId": "613b4acd-2bc4-477b-a709-52d13b602b3c"
      },
      "execution_count": 38,
      "outputs": [
        {
          "output_type": "stream",
          "name": "stdout",
          "text": [
            "Label: Family, c =  10.0 and gamma =  2.0\n",
            "Label: Genus, c =  100.0 and gamma =  1.5000000000000002\n",
            "Label: Species, c =  10.0 and gamma =  1.8000000000000003\n"
          ]
        }
      ]
    },
    {
      "cell_type": "code",
      "source": [
        "# using the best parameters\n",
        "svc_model_family = SVC(C=c_family, gamma=gamma_family,kernel='rbf', random_state=42, max_iter = 1000).fit(x_train, y_train_family)\n",
        "svc_model_genus = SVC(C=c_genus, gamma=gamma_genus,kernel='rbf', random_state=42, max_iter = 1000).fit(x_train, y_train_genus)\n",
        "svc_model_species = SVC(C=c_species, gamma=gamma_species,kernel='rbf', random_state=42, max_iter = 1000).fit(x_train, y_train_species)\n",
        "\n",
        "y_predict_family = pd.DataFrame(svc_model_family.predict(x_test))\n",
        "y_predict_genus = pd.DataFrame(svc_model_genus.predict(x_test))\n",
        "y_predict_species = pd.DataFrame(svc_model_species.predict(x_test))\n",
        "y_predict = pd.concat([y_predict_family, y_predict_genus, y_predict_species], axis=1)\n",
        "\n",
        "print(y_predict)"
      ],
      "metadata": {
        "colab": {
          "base_uri": "https://localhost:8080/"
        },
        "id": "doitnrB8dVXy",
        "outputId": "5ef591d8-3461-44e4-a2ca-14174bb9dbba"
      },
      "execution_count": 39,
      "outputs": [
        {
          "output_type": "stream",
          "name": "stdout",
          "text": [
            "                    0          0                       0\n",
            "0     Leptodactylidae  Adenomera  AdenomeraHylaedactylus\n",
            "1             Hylidae  Hypsiboas    HypsiboasCinerascens\n",
            "2             Hylidae  Hypsiboas       HypsiboasCordobae\n",
            "3     Leptodactylidae  Adenomera  AdenomeraHylaedactylus\n",
            "4     Leptodactylidae  Adenomera  AdenomeraHylaedactylus\n",
            "...               ...        ...                     ...\n",
            "2154  Leptodactylidae  Adenomera  AdenomeraHylaedactylus\n",
            "2155  Leptodactylidae  Adenomera          AdenomeraAndre\n",
            "2156  Leptodactylidae  Adenomera  AdenomeraHylaedactylus\n",
            "2157  Leptodactylidae  Adenomera  AdenomeraHylaedactylus\n",
            "2158  Leptodactylidae  Adenomera  AdenomeraHylaedactylus\n",
            "\n",
            "[2159 rows x 3 columns]\n"
          ]
        }
      ]
    },
    {
      "cell_type": "code",
      "source": [
        "def HammingScore(y_predict, y_true):\n",
        "  count = 0\n",
        "  y_predict = y_predict.reset_index().iloc[:,1:]\n",
        "  y_true = y_true.reset_index().iloc[:,1:]\n",
        "  instances = y_predict.shape[0]\n",
        "  for i, row in enumerate(y_predict.iterrows()):\n",
        "    if y_predict.loc[i].tolist() == y_true.loc[i].tolist():\n",
        "      count += 1\n",
        "  return count/instances\n",
        "\n",
        "\n",
        "svc_model_hamming_score = HammingScore(y_predict, y_test)\n",
        "print('Harmming Score:', svc_model_hamming_score)\n",
        "print('Harmming Loss:', 1-svc_model_hamming_score)"
      ],
      "metadata": {
        "colab": {
          "base_uri": "https://localhost:8080/"
        },
        "id": "y-PR0guLjoxT",
        "outputId": "676a6f87-7d26-448c-eb16-dbce13607849"
      },
      "execution_count": 40,
      "outputs": [
        {
          "output_type": "stream",
          "name": "stdout",
          "text": [
            "Harmming Score: 0.9874942102825383\n",
            "Harmming Loss: 0.012505789717461746\n"
          ]
        }
      ]
    },
    {
      "cell_type": "markdown",
      "source": [
        "iii. Repeat 1(b)ii with L1-penalized SVMs. Remember to standardize the attributes. Determine the weight of the SVM penalty using 10 fold cross validation."
      ],
      "metadata": {
        "id": "LTjYlfAlm9Eb"
      }
    },
    {
      "cell_type": "code",
      "source": [
        "# standardize data\n",
        "scaler = preprocessing.StandardScaler()\n",
        "X_train_std = scaler.fit_transform(x_train)\n",
        "\n",
        "parameters = {'C':c_range}\n",
        "svc_model_l1 = LinearSVC(penalty='l1', dual=False, random_state=42)\n",
        "\n",
        "l1_family = GridSearchCV(svc_model_l1, parameters, cv=10).fit(X_train_std, y_train_family)\n",
        "l1_genus = GridSearchCV(svc_model_l1, parameters, cv=10).fit(X_train_std, y_train_genus)\n",
        "l1_species = GridSearchCV(svc_model_l1, parameters, cv=10).fit(X_train_std, y_train_species)\n",
        "\n",
        "X_test_stand = scaler.fit_transform(x_test)"
      ],
      "metadata": {
        "id": "7VkFPmRjnSpI"
      },
      "execution_count": 41,
      "outputs": []
    },
    {
      "cell_type": "code",
      "source": [
        "c_family_l1 = l1_family.best_params_['C']\n",
        "c_genus_l1 = l1_genus.best_params_['C']\n",
        "c_species_l1 = l1_species.best_params_['C']\n",
        "\n",
        "svc_model_family_l1 = LinearSVC(penalty='l1', C=c_family_l1, dual=False, random_state=42).fit(X_train_std, y_train_family)\n",
        "svc_model_genus_l1 = LinearSVC(penalty='l1', C=c_genus_l1, dual=False, random_state=42).fit(X_train_std, y_train_genus)\n",
        "svc_model_species_l1 = LinearSVC(penalty='l1', C=c_species_l1, dual=False, random_state=42).fit(X_train_std, y_train_species)\n",
        "\n",
        "y_predict_family_l1 = pd.DataFrame(svc_model_family_l1.predict(X_test_stand))\n",
        "y_predict_genus_l1 = pd.DataFrame(svc_model_genus_l1.predict(X_test_stand))\n",
        "y_predict_species_l1 = pd.DataFrame(svc_model_species_l1.predict(X_test_stand))\n",
        "y_predict_l1 = pd.concat([y_predict_family_l1, y_predict_genus_l1, y_predict_species_l1], axis=1)\n",
        "\n",
        "svc_hamming_score_l1 = HammingScore(y_predict_l1, y_test)\n",
        "print('L1-penalized SVM')\n",
        "print('Hamming Score:', svc_hamming_score_l1)\n",
        "print('Hamming Loss:', 1-svc_hamming_score_l1)"
      ],
      "metadata": {
        "colab": {
          "base_uri": "https://localhost:8080/"
        },
        "id": "jf2H3z9i6ACh",
        "outputId": "932cea59-196c-4820-c34a-a1ebf04520a6"
      },
      "execution_count": 42,
      "outputs": [
        {
          "output_type": "stream",
          "name": "stdout",
          "text": [
            "L1-penalized SVM\n",
            "Hamming Score: 0.9092172301991662\n",
            "Hamming Loss: 0.09078276980083377\n"
          ]
        }
      ]
    },
    {
      "cell_type": "markdown",
      "source": [
        "iv. Repeat 1(b)iii by using SMOTE or any other method you know to remedy class imbalance. Report your conclusions about the classifiers you trained."
      ],
      "metadata": {
        "id": "6frHPII9yMht"
      }
    },
    {
      "cell_type": "code",
      "source": [
        "from imblearn.over_sampling import SMOTE\n",
        "\n",
        "sm = SMOTE()\n",
        "x_train_family_smote, y_train_family_smote = sm.fit_resample(X_train_std, y_train_family)\n",
        "x_train_genus_smote, y_train_genus_smote = sm.fit_resample(X_train_std, y_train_genus)\n",
        "x_train_species_smote, y_train_species_smote = sm.fit_resample(X_train_std, y_train_species)"
      ],
      "metadata": {
        "id": "3AWCEYCuyTsN"
      },
      "execution_count": 43,
      "outputs": []
    },
    {
      "cell_type": "code",
      "source": [
        "parameters = {'C':c_range}\n",
        "svc_model_l1 = LinearSVC(penalty='l1', dual=False, random_state=233)\n",
        "\n",
        "l1_smote_family = GridSearchCV(svc_model_l1, parameters, cv=10).fit(x_train_family_smote, y_train_family_smote)\n",
        "l1_smote_genus = GridSearchCV(svc_model_l1, parameters, cv=10).fit(x_train_genus_smote, y_train_genus_smote)\n",
        "l1_smote_species = GridSearchCV(svc_model_l1, parameters, cv=10).fit(x_train_species_smote, y_train_species_smote)\n",
        "\n",
        "c1_smote = l1_smote_family.best_params_['C']\n",
        "c2_smote = l1_smote_genus.best_params_['C']\n",
        "c3_smote = l1_smote_species.best_params_['C']"
      ],
      "metadata": {
        "id": "7H-qkhnrzDXZ"
      },
      "execution_count": 44,
      "outputs": []
    },
    {
      "cell_type": "code",
      "source": [
        "l1_smote_model_family = LinearSVC(penalty='l1', C=c1_smote, dual=False, random_state=42).fit(x_train_family_smote, y_train_family_smote)\n",
        "l1_smote_model_genus = LinearSVC(penalty='l1', C=c2_smote, dual=False, random_state=42).fit(x_train_genus_smote, y_train_genus_smote)\n",
        "l1_smote_model_species = LinearSVC(penalty='l1', C=c3_smote, dual=False, random_state=42).fit(x_train_species_smote, y_train_species_smote)\n",
        "\n",
        "y_predict_family_smote = pd.DataFrame(l1_smote_model_family.predict(X_test_stand))\n",
        "y_predict_genus_smote = pd.DataFrame(l1_smote_model_genus.predict(X_test_stand))\n",
        "y_predict_species_smote = pd.DataFrame(l1_smote_model_species.predict(X_test_stand))\n",
        "y_predict_smote = pd.concat([y_predict_family_smote, y_predict_genus_smote, y_predict_species_smote], axis=1)\n",
        "\n",
        "smote_hamming_score = HammingScore(y_predict_smote, y_test)\n",
        "print('L1-penalized SVM (SMOTE)')\n",
        "print('Hamming Loss:', 1-smote_hamming_score)"
      ],
      "metadata": {
        "colab": {
          "base_uri": "https://localhost:8080/"
        },
        "id": "X2WqdttiVz2j",
        "outputId": "69257735-4339-4974-8822-d2560bf9c183"
      },
      "execution_count": 45,
      "outputs": [
        {
          "output_type": "stream",
          "name": "stdout",
          "text": [
            "L1-penalized SVM (SMOTE)\n",
            "Hamming Loss: 0.13756368689207965\n"
          ]
        }
      ]
    },
    {
      "cell_type": "markdown",
      "source": [
        "2. K-Means Clustering on a Multi-Class and Multi-Label Data Set<br>\n",
        "Monte-Carlo Simulation: Perform the following procedures 50 times, and report the average and standard deviation of the 50 Hamming Distances that you calculate."
      ],
      "metadata": {
        "id": "-hHJyu77ao5r"
      }
    },
    {
      "cell_type": "markdown",
      "source": [
        "(a) Use k-means clustering on the whole Anuran Calls (MFCCs) Data Set (do not split the data into train and test, as we are not performing supervised learning in this exercise). Choose k ∈ {1, 2, . . . , 50} automatically based on one of the methods provided in the slides (CH or Gap Statistics or scree plots or Silhouettes) or any other method you know."
      ],
      "metadata": {
        "id": "h514yRJJaz4r"
      }
    },
    {
      "cell_type": "code",
      "source": [
        "from sklearn.cluster import KMeans\n",
        "from sklearn.metrics import silhouette_score\n",
        "\n",
        "k_val = np.arange(2, 51)\n",
        "k_val"
      ],
      "metadata": {
        "colab": {
          "base_uri": "https://localhost:8080/"
        },
        "id": "6upzDIVpbCb6",
        "outputId": "c2543e06-585d-4c2e-fbda-bf5af584dd05"
      },
      "execution_count": 46,
      "outputs": [
        {
          "output_type": "execute_result",
          "data": {
            "text/plain": [
              "array([ 2,  3,  4,  5,  6,  7,  8,  9, 10, 11, 12, 13, 14, 15, 16, 17, 18,\n",
              "       19, 20, 21, 22, 23, 24, 25, 26, 27, 28, 29, 30, 31, 32, 33, 34, 35,\n",
              "       36, 37, 38, 39, 40, 41, 42, 43, 44, 45, 46, 47, 48, 49, 50])"
            ]
          },
          "metadata": {},
          "execution_count": 46
        }
      ]
    },
    {
      "cell_type": "code",
      "source": [
        "#initialize the best k value to 1 and silhouette score to 0\n",
        "best_k_val = 1\n",
        "score_max = 0\n",
        "\n",
        "#finding optimal K\n",
        "for k in k_val:\n",
        "    kmeans = KMeans(n_clusters=k).fit(x_data)\n",
        "    labels = kmeans.labels_\n",
        "    score = silhouette_score(x_data, labels)\n",
        "    print(\"Attempt:\", k)\n",
        "    print(\"silhouette score:\", score)\n",
        "    if score > score_max:\n",
        "        score_max = score\n",
        "        best_k_val = k\n",
        "\n",
        "print(\"--------------------------------\")\n",
        "print(\"Best k value = \", best_k_val)"
      ],
      "metadata": {
        "colab": {
          "base_uri": "https://localhost:8080/"
        },
        "id": "heh8d_MCcbLt",
        "outputId": "9e412541-3565-4b2b-c703-ac2eeca09279"
      },
      "execution_count": 47,
      "outputs": [
        {
          "output_type": "stream",
          "name": "stdout",
          "text": [
            "Attempt: 2\n",
            "silhouette score: 0.3486778410277152\n",
            "Attempt: 3\n",
            "silhouette score: 0.36768245219926315\n",
            "Attempt: 4\n",
            "silhouette score: 0.3787509343305295\n",
            "Attempt: 5\n",
            "silhouette score: 0.37149147864771287\n",
            "Attempt: 6\n",
            "silhouette score: 0.2644052337316085\n",
            "Attempt: 7\n",
            "silhouette score: 0.2605150881259886\n",
            "Attempt: 8\n",
            "silhouette score: 0.25390025742725003\n",
            "Attempt: 9\n",
            "silhouette score: 0.27648870402759396\n",
            "Attempt: 10\n",
            "silhouette score: 0.28108452937216016\n",
            "Attempt: 11\n",
            "silhouette score: 0.27165190071071055\n",
            "Attempt: 12\n",
            "silhouette score: 0.2713666190780047\n",
            "Attempt: 13\n",
            "silhouette score: 0.27823599537927923\n",
            "Attempt: 14\n",
            "silhouette score: 0.28467943684251124\n",
            "Attempt: 15\n",
            "silhouette score: 0.27060464219222724\n",
            "Attempt: 16\n",
            "silhouette score: 0.28960311281381923\n",
            "Attempt: 17\n",
            "silhouette score: 0.27911327103620476\n",
            "Attempt: 18\n",
            "silhouette score: 0.2803099783991661\n",
            "Attempt: 19\n",
            "silhouette score: 0.2853041117396457\n",
            "Attempt: 20\n",
            "silhouette score: 0.2814696526490778\n",
            "Attempt: 21\n",
            "silhouette score: 0.2725965039134149\n",
            "Attempt: 22\n",
            "silhouette score: 0.27553724852874384\n",
            "Attempt: 23\n",
            "silhouette score: 0.26677385590853275\n",
            "Attempt: 24\n",
            "silhouette score: 0.2732363708628254\n",
            "Attempt: 25\n",
            "silhouette score: 0.26634034640206083\n",
            "Attempt: 26\n",
            "silhouette score: 0.26144087354756357\n",
            "Attempt: 27\n",
            "silhouette score: 0.27185495551838273\n",
            "Attempt: 28\n",
            "silhouette score: 0.2664955641711028\n",
            "Attempt: 29\n",
            "silhouette score: 0.26612318691931863\n",
            "Attempt: 30\n",
            "silhouette score: 0.26936128321992997\n",
            "Attempt: 31\n",
            "silhouette score: 0.26238833138639384\n",
            "Attempt: 32\n",
            "silhouette score: 0.2716153790368594\n",
            "Attempt: 33\n",
            "silhouette score: 0.26074708841920846\n",
            "Attempt: 34\n",
            "silhouette score: 0.26610128751148143\n",
            "Attempt: 35\n",
            "silhouette score: 0.2595064552110751\n",
            "Attempt: 36\n",
            "silhouette score: 0.2627670993645545\n",
            "Attempt: 37\n",
            "silhouette score: 0.2641545596183983\n",
            "Attempt: 38\n",
            "silhouette score: 0.2531360518233096\n",
            "Attempt: 39\n",
            "silhouette score: 0.24556978269928642\n",
            "Attempt: 40\n",
            "silhouette score: 0.2395837227144552\n",
            "Attempt: 41\n",
            "silhouette score: 0.2095582848576683\n",
            "Attempt: 42\n",
            "silhouette score: 0.2401446176505872\n",
            "Attempt: 43\n",
            "silhouette score: 0.23427112275511983\n",
            "Attempt: 44\n",
            "silhouette score: 0.2513719917618543\n",
            "Attempt: 45\n",
            "silhouette score: 0.2455316483676792\n",
            "Attempt: 46\n",
            "silhouette score: 0.23840691953235962\n",
            "Attempt: 47\n",
            "silhouette score: 0.22052566356895395\n",
            "Attempt: 48\n",
            "silhouette score: 0.22071271886877872\n",
            "Attempt: 49\n",
            "silhouette score: 0.21179053861285643\n",
            "Attempt: 50\n",
            "silhouette score: 0.21758870867569632\n",
            "--------------------------------\n",
            "Best k value =  4\n"
          ]
        }
      ]
    },
    {
      "cell_type": "markdown",
      "source": [
        "(b) In each cluster, determine which family is the majority by reading the true labels. Repeat for genus and species."
      ],
      "metadata": {
        "id": "9HDvZPLugyEh"
      }
    },
    {
      "cell_type": "code",
      "source": [
        "#using the best k value from above\n",
        "kmeans = KMeans(n_clusters=best_k_val, random_state=42).fit(x_data)\n",
        "labels = kmeans.labels_\n",
        "\n",
        "y_family = y_data['Family']\n",
        "y_genus = y_data['Genus']\n",
        "y_species = y_data['Species']\n",
        "\n",
        "cluster_id = dict()\n",
        "labels = pd.Series(labels)\n",
        "\n",
        "for i in range(best_k_val):\n",
        "    cluster_id[i] = labels.index[labels==i].tolist()\n",
        "\n",
        "    majority_family = y_family[cluster_id[i]].value_counts().index[0]\n",
        "    majority_genus = y_genus[cluster_id[i]].value_counts().index[0]\n",
        "    majority_species = y_species[cluster_id[i]].value_counts().index[0]\n",
        "    \n",
        "    print('Cluster:', i)\n",
        "    print('Majority in Family:', majority_family)\n",
        "    print('Majority in Genus:', majority_genus)\n",
        "    print('Majority in Species:', majority_species)\n",
        "    print('-------------------------------------------')"
      ],
      "metadata": {
        "colab": {
          "base_uri": "https://localhost:8080/"
        },
        "id": "qMAnhgcAg3Y4",
        "outputId": "0f53fbbc-9f40-4c96-85a3-8184dab4f17c"
      },
      "execution_count": 48,
      "outputs": [
        {
          "output_type": "stream",
          "name": "stdout",
          "text": [
            "Cluster: 0\n",
            "Majority in Family: Leptodactylidae\n",
            "Majority in Genus: Adenomera\n",
            "Majority in Species: AdenomeraHylaedactylus\n",
            "-------------------------------------------\n",
            "Cluster: 1\n",
            "Majority in Family: Hylidae\n",
            "Majority in Genus: Hypsiboas\n",
            "Majority in Species: HypsiboasCordobae\n",
            "-------------------------------------------\n",
            "Cluster: 2\n",
            "Majority in Family: Hylidae\n",
            "Majority in Genus: Hypsiboas\n",
            "Majority in Species: HypsiboasCinerascens\n",
            "-------------------------------------------\n",
            "Cluster: 3\n",
            "Majority in Family: Dendrobatidae\n",
            "Majority in Genus: Ameerega\n",
            "Majority in Species: Ameeregatrivittata\n",
            "-------------------------------------------\n"
          ]
        }
      ]
    },
    {
      "cell_type": "markdown",
      "source": [
        "(c) Now for each cluster you have a majority label triplet (family, genus, species). Calculate the average Hamming distance, Hamming score, and Hamming loss between the true labels and the labels assigned by clusters."
      ],
      "metadata": {
        "id": "uPg2xe4uoyFE"
      }
    },
    {
      "cell_type": "code",
      "source": [
        "def HammingDistance(y_predict, y_true):\n",
        "    count = 0\n",
        "    y_predict = y_predict.reset_index().iloc[:,1:]\n",
        "    y_true = y_true.reset_index().iloc[:,1:]\n",
        "    instances = y_predict.shape[0]\n",
        "    for i, row in enumerate(y_predict.iterrows()):\n",
        "        if y_predict.loc[i].tolist() == y_true.loc[i].tolist():\n",
        "            count += 1\n",
        "    return instances - count"
      ],
      "metadata": {
        "id": "VEjpUrgIvDTx"
      },
      "execution_count": 49,
      "outputs": []
    },
    {
      "cell_type": "code",
      "source": [
        "hamming_distances = []\n",
        "hamming_scores = []\n",
        "hamming_loss = []\n",
        "pd.concat([y_family, y_family, y_family], axis=1)\n",
        "y_data_col = y_family.append(y_genus).append(y_species)\n",
        "\n",
        "for i in range(50):\n",
        "    kmeans = KMeans(n_clusters=best_k_val).fit(x_data)\n",
        "    labels = kmeans.labels_\n",
        "    cluster_id = dict()\n",
        "    labels = pd.Series(labels)\n",
        "    cluster_majority = dict()\n",
        " \n",
        "    for i in range(best_k_val):\n",
        "        cluster_id[i] = labels.index[labels==i].tolist()\n",
        "        majority_family = y_family[cluster_id[i]].value_counts().index[0]\n",
        "        majority_genus = y_genus[cluster_id[i]].value_counts().index[0]\n",
        "        majority_species = y_species[cluster_id[i]].value_counts().index[0]\n",
        "        cluster_majority[i] = [majority_family, majority_genus, majority_species]\n",
        "    \n",
        "    y_labels = pd.DataFrame(columns=y_data.columns, index=y_data.index)\n",
        "    for cluster in range(4):\n",
        "        for i in cluster_id[cluster]:\n",
        "            y_labels.loc[i] = cluster_majority[cluster]\n",
        "\n",
        "    hamming_dist = HammingDistance(y_labels, y_data)\n",
        "    hamming_score = HammingScore(y_labels, y_data)\n",
        "    hamming_loss_val = 1 - hamming_score\n",
        "    \n",
        "    hamming_distances.append(hamming_dist)\n",
        "    hamming_scores.append(hamming_score)\n",
        "    hamming_loss.append(hamming_loss_val)\n",
        "\n",
        "avg_hamming_dist = np.array(hamming_distances).mean()\n",
        "avg_hamming_score = np.array(hamming_scores).mean()\n",
        "avg_hamming_loss = np.array(hamming_loss).mean()\n",
        "std_hamming_dist = np.array(hamming_distances).std()\n",
        "std_hamming_score = np.array(hamming_scores).std()\n",
        "std_hamming_loss = np.array(hamming_loss).std()"
      ],
      "metadata": {
        "id": "Zzt-bhqzo5e7"
      },
      "execution_count": 50,
      "outputs": []
    },
    {
      "cell_type": "code",
      "source": [
        "print('Average Hamming Distance = ', avg_hamming_dist)\n",
        "print('Average Hamming Score = ', avg_hamming_score)\n",
        "print('Average Hamming Loss = ', avg_hamming_loss)\n",
        "print('The standard deviation of Hamming Distance = ',std_hamming_dist)\n",
        "print('The standard deviation of Hamming Score = ',std_hamming_score)\n",
        "print('The standard deviation of Hamming Loss = ',std_hamming_loss)"
      ],
      "metadata": {
        "colab": {
          "base_uri": "https://localhost:8080/"
        },
        "id": "-k-ZpblBtwg3",
        "outputId": "5f31db58-43d3-419d-d4e1-908247366cfd"
      },
      "execution_count": 51,
      "outputs": [
        {
          "output_type": "stream",
          "name": "stdout",
          "text": [
            "Average Hamming Distance =  1802.1\n",
            "Average Hamming Score =  0.7495343988881169\n",
            "Average Hamming Loss =  0.25046560111188326\n",
            "The standard deviation of Hamming Distance =  130.33575871571085\n",
            "The standard deviation of Hamming Score =  0.018114768410800678\n",
            "The standard deviation of Hamming Loss =  0.018114768410800675\n"
          ]
        }
      ]
    },
    {
      "cell_type": "markdown",
      "source": [
        "3. ISLR 12.6.2"
      ],
      "metadata": {
        "id": "enbGFkyGz3u1"
      }
    },
    {
      "cell_type": "markdown",
      "source": [
        "(a) On the basis of this dissimilarity matrix, sketch the dendrogram that results from hierarchically clustering these four observations using complete linkage. Be sure to indicate on the plot the height at which each fusion occurs, as well as the observations corresponding to each leaf in the dendrogram."
      ],
      "metadata": {
        "id": "DvZGQBCc014t"
      }
    },
    {
      "cell_type": "code",
      "source": [
        "import numpy as np\n",
        "from scipy.cluster.hierarchy import dendrogram, linkage\n",
        "from scipy.spatial.distance import squareform\n",
        "import matplotlib.pyplot as plt\n",
        "\n",
        "dist_matrix = np.array([[0.0, 0.3, 0.4, 0.7], [0.3, 0.0, 0.5, 0.8], [0.4, 0.5, 0.0, 0.45], [0.7, 0.8, 0.45, 0.0]])\n",
        "dist = squareform(dist_matrix)\n",
        "linkage_matrix = linkage(dist, \"complete\")\n",
        "fig = plt.figure(figsize=(10,6))\n",
        "ax = fig.add_subplot(111)\n",
        "dendrogram(linkage_matrix, labels=[\"1\", \"2\", \"3\", \"4\"])\n",
        "plt.title(\"Dendrogram\")\n",
        "plt.show()"
      ],
      "metadata": {
        "colab": {
          "base_uri": "https://localhost:8080/",
          "height": 393
        },
        "id": "dqLIrKFN31cx",
        "outputId": "af25ff14-2bab-4bc7-a1af-00603d2cbd83"
      },
      "execution_count": 52,
      "outputs": [
        {
          "output_type": "display_data",
          "data": {
            "text/plain": [
              "<Figure size 720x432 with 1 Axes>"
            ],
            "image/png": "[encoded data removed]"
          },
          "metadata": {
            "needs_background": "light"
          }
        }
      ]
    },
    {
      "cell_type": "markdown",
      "source": [
        "(b) Repeat (a), this time using single linkage clustering."
      ],
      "metadata": {
        "id": "l8hgwRck4ORg"
      }
    },
    {
      "cell_type": "code",
      "source": [
        "linkage_matrix = linkage(dist, \"single\")\n",
        "fig = plt.figure(figsize=(10,6))\n",
        "ax = fig.add_subplot(111)\n",
        "dendrogram(linkage_matrix, labels=[\"1\", \"2\", \"3\", \"4\"])\n",
        "plt.title(\"Dendrogram\")\n",
        "plt.show()"
      ],
      "metadata": {
        "colab": {
          "base_uri": "https://localhost:8080/",
          "height": 393
        },
        "id": "s_vnluwx4RYt",
        "outputId": "9720e935-02db-455a-9e5d-2bd5bec815b6"
      },
      "execution_count": 53,
      "outputs": [
        {
          "output_type": "display_data",
          "data": {
            "text/plain": [
              "<Figure size 720x432 with 1 Axes>"
            ],
            "image/png": "[encoded data removed]"
          },
          "metadata": {
            "needs_background": "light"
          }
        }
      ]
    },
    {
      "cell_type": "markdown",
      "source": [
        "(c) Suppose that we cut the dendrogram obtained in (a) such that two clusters result. Which observations are in each cluster?"
      ],
      "metadata": {
        "id": "kM0J5plg4W8q"
      }
    },
    {
      "cell_type": "markdown",
      "source": [
        "Observations 1 and 2 are in Cluster A <br>\n",
        "Observations 3 and 4 are in Cluster B"
      ],
      "metadata": {
        "id": "oOzA360D4kgE"
      }
    },
    {
      "cell_type": "markdown",
      "source": [
        "(d) Suppose that we cut the dendrogram obtained in (b) such that two clusters result. Which observations are in each cluster?"
      ],
      "metadata": {
        "id": "nHnxV0jV4qhz"
      }
    },
    {
      "cell_type": "markdown",
      "source": [
        "Observations 1, 2 and 3 are in Cluster A\n",
        "Observation 4 is in Cluster B"
      ],
      "metadata": {
        "id": "pY8htX1A4voc"
      }
    },
    {
      "cell_type": "markdown",
      "source": [
        "(e) It is mentioned in the chapter that at each fusion in the dendrogram, the position of the two clusters being fused can be swapped without changing the meaning of the dendrogram. Draw a dendrogram that is equivalent to the dendrogram in (a), for which two or more of the leaves are repositioned, but for which the meaning of the dendrogram is the same."
      ],
      "metadata": {
        "id": "-9PUySy14-Dg"
      }
    },
    {
      "cell_type": "code",
      "source": [
        "dist_matrix = np.array([[0.0, 0.3, 0.4, 0.7], [0.3, 0.0, 0.5, 0.8], [0.4, 0.5, 0.0, 0.45], [0.7, 0.8, 0.45, 0.0]])\n",
        "dist = squareform(dist_matrix)\n",
        "linkage_matrix = linkage(dist, \"complete\")\n",
        "fig = plt.figure(figsize=(10,6))\n",
        "ax = fig.add_subplot(111)\n",
        "dendrogram(linkage_matrix, labels=[\"1\", \"4\", \"3\", \"2\"])\n",
        "plt.title(\"Dendrogram\")\n",
        "plt.show()"
      ],
      "metadata": {
        "colab": {
          "base_uri": "https://localhost:8080/",
          "height": 393
        },
        "id": "sC5qSney5E8w",
        "outputId": "69f796c9-e753-4257-c121-982d53ebfa7a"
      },
      "execution_count": 54,
      "outputs": [
        {
          "output_type": "display_data",
          "data": {
            "text/plain": [
              "<Figure size 720x432 with 1 Axes>"
            ],
            "image/png": "[encoded data removed]"
          },
          "metadata": {
            "needs_background": "light"
          }
        }
      ]
    }
  ]
}